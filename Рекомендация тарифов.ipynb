{
 "cells": [
  {
   "cell_type": "markdown",
   "metadata": {},
   "source": [
    "# Рекомендация тарифов"
   ]
  },
  {
   "cell_type": "markdown",
   "metadata": {},
   "source": [
    "В вашем распоряжении данные о поведении клиентов, которые уже перешли на эти тарифы (из проекта курса «Статистический анализ данных»). Нужно построить модель для задачи классификации, которая выберет подходящий тариф. Предобработка данных не понадобится — вы её уже сделали.\n",
    "\n",
    "Постройте модель с максимально большим значением *accuracy*. Чтобы сдать проект успешно, нужно довести долю правильных ответов по крайней мере до 0.75. Проверьте *accuracy* на тестовой выборке самостоятельно."
   ]
  },
  {
   "cell_type": "markdown",
   "metadata": {},
   "source": [
    "## Откроем и изучим файл"
   ]
  },
  {
   "cell_type": "markdown",
   "metadata": {},
   "source": [
    "Сначала импортируем все необходимые библиотеки."
   ]
  },
  {
   "cell_type": "code",
   "execution_count": 1,
   "metadata": {},
   "outputs": [],
   "source": [
    "import pandas as pd\n",
    "from sklearn.tree import DecisionTreeClassifier\n",
    "from sklearn.ensemble import RandomForestClassifier\n",
    "from sklearn.linear_model import LogisticRegression\n",
    "from sklearn.neighbors import KNeighborsClassifier\n",
    "from sklearn.model_selection import GridSearchCV\n",
    "from sklearn.metrics import accuracy_score\n",
    "from sklearn.model_selection import train_test_split\n",
    "from sklearn.dummy import DummyClassifier\n",
    "from warnings import filterwarnings"
   ]
  },
  {
   "cell_type": "markdown",
   "metadata": {},
   "source": [
    "Подгрузим датасет и изучим его."
   ]
  },
  {
   "cell_type": "code",
   "execution_count": 2,
   "metadata": {},
   "outputs": [
    {
     "data": {
      "text/html": [
       "<div>\n",
       "<style scoped>\n",
       "    .dataframe tbody tr th:only-of-type {\n",
       "        vertical-align: middle;\n",
       "    }\n",
       "\n",
       "    .dataframe tbody tr th {\n",
       "        vertical-align: top;\n",
       "    }\n",
       "\n",
       "    .dataframe thead th {\n",
       "        text-align: right;\n",
       "    }\n",
       "</style>\n",
       "<table border=\"1\" class=\"dataframe\">\n",
       "  <thead>\n",
       "    <tr style=\"text-align: right;\">\n",
       "      <th></th>\n",
       "      <th>calls</th>\n",
       "      <th>minutes</th>\n",
       "      <th>messages</th>\n",
       "      <th>mb_used</th>\n",
       "      <th>is_ultra</th>\n",
       "    </tr>\n",
       "  </thead>\n",
       "  <tbody>\n",
       "    <tr>\n",
       "      <th>0</th>\n",
       "      <td>40.0</td>\n",
       "      <td>311.90</td>\n",
       "      <td>83.0</td>\n",
       "      <td>19915.42</td>\n",
       "      <td>0</td>\n",
       "    </tr>\n",
       "    <tr>\n",
       "      <th>1</th>\n",
       "      <td>85.0</td>\n",
       "      <td>516.75</td>\n",
       "      <td>56.0</td>\n",
       "      <td>22696.96</td>\n",
       "      <td>0</td>\n",
       "    </tr>\n",
       "    <tr>\n",
       "      <th>2</th>\n",
       "      <td>77.0</td>\n",
       "      <td>467.66</td>\n",
       "      <td>86.0</td>\n",
       "      <td>21060.45</td>\n",
       "      <td>0</td>\n",
       "    </tr>\n",
       "    <tr>\n",
       "      <th>3</th>\n",
       "      <td>106.0</td>\n",
       "      <td>745.53</td>\n",
       "      <td>81.0</td>\n",
       "      <td>8437.39</td>\n",
       "      <td>1</td>\n",
       "    </tr>\n",
       "    <tr>\n",
       "      <th>4</th>\n",
       "      <td>66.0</td>\n",
       "      <td>418.74</td>\n",
       "      <td>1.0</td>\n",
       "      <td>14502.75</td>\n",
       "      <td>0</td>\n",
       "    </tr>\n",
       "  </tbody>\n",
       "</table>\n",
       "</div>"
      ],
      "text/plain": [
       "   calls  minutes  messages   mb_used  is_ultra\n",
       "0   40.0   311.90      83.0  19915.42         0\n",
       "1   85.0   516.75      56.0  22696.96         0\n",
       "2   77.0   467.66      86.0  21060.45         0\n",
       "3  106.0   745.53      81.0   8437.39         1\n",
       "4   66.0   418.74       1.0  14502.75         0"
      ]
     },
     "metadata": {},
     "output_type": "display_data"
    },
    {
     "name": "stdout",
     "output_type": "stream",
     "text": [
      "<class 'pandas.core.frame.DataFrame'>\n",
      "RangeIndex: 3214 entries, 0 to 3213\n",
      "Data columns (total 5 columns):\n",
      " #   Column    Non-Null Count  Dtype  \n",
      "---  ------    --------------  -----  \n",
      " 0   calls     3214 non-null   float64\n",
      " 1   minutes   3214 non-null   float64\n",
      " 2   messages  3214 non-null   float64\n",
      " 3   mb_used   3214 non-null   float64\n",
      " 4   is_ultra  3214 non-null   int64  \n",
      "dtypes: float64(4), int64(1)\n",
      "memory usage: 125.7 KB\n"
     ]
    }
   ],
   "source": [
    "df = pd.read_csv('C:\\\\Users\\\\admin\\\\Desktop\\\\DS_yandex\\\\05_Рекомендация тарифов\\\\users_behavior.csv')\n",
    "display(df.head())\n",
    "df.info()"
   ]
  },
  {
   "cell_type": "markdown",
   "metadata": {},
   "source": [
    "В подгруженном датасете содержится информация о месячной активности пользователей услуг: \n",
    "- **calls** - количество звонков;\n",
    "- **minutes** - использованные минуты телефонных разговоров;\n",
    "- **messages** - отправленные смс;\n",
    "- **mb_used** - использованный интернет-траффик (мб);\n",
    "- **is_ultra** - признак, показывающий является ли пользователь абонентом тарифа \"Ultra\" (значение \"1\") или нет (значение \"0\").\n",
    "\n",
    "В качестве целевого призника выберем столбец **is_ultra**."
   ]
  },
  {
   "cell_type": "markdown",
   "metadata": {},
   "source": [
    "## Разобьем данные на выборки"
   ]
  },
  {
   "cell_type": "markdown",
   "metadata": {},
   "source": [
    "Разобьем данные на обучающую, валидационную и тестовую выборки."
   ]
  },
  {
   "cell_type": "code",
   "execution_count": 3,
   "metadata": {},
   "outputs": [
    {
     "name": "stdout",
     "output_type": "stream",
     "text": [
      "Размер обучающей выборки 1928 строк.\n",
      "Размер валидационной выборки 643 строк.\n",
      "Размер тестовой выборки 643 строк.\n"
     ]
    }
   ],
   "source": [
    "features = df.drop('is_ultra', axis = 1) \n",
    "target = df['is_ultra']\n",
    "\n",
    "features_train, features_valid, target_train, target_valid = train_test_split(\n",
    "    features, target, test_size=0.4, random_state=12345)\n",
    "features_valid, features_test, target_valid, target_test = train_test_split(\n",
    "    features_valid, target_valid, test_size=0.5, random_state=12345)\n",
    "\n",
    "print('Размер обучающей выборки', features_train.shape[0], 'строк.\\nРазмер валидационной выборки', \n",
    "      features_valid.shape[0], 'строк.\\nРазмер тестовой выборки', features_test.shape[0], 'строк.')"
   ]
  },
  {
   "cell_type": "markdown",
   "metadata": {},
   "source": [
    "## Исследуем модели"
   ]
  },
  {
   "cell_type": "markdown",
   "metadata": {},
   "source": [
    "Обучим несколько моделей и проверим их."
   ]
  },
  {
   "cell_type": "markdown",
   "metadata": {},
   "source": [
    "### Дерево решений"
   ]
  },
  {
   "cell_type": "code",
   "execution_count": 4,
   "metadata": {},
   "outputs": [
    {
     "name": "stdout",
     "output_type": "stream",
     "text": [
      "CPU times: total: 2.38 s\n",
      "Wall time: 7.17 s\n"
     ]
    },
    {
     "data": {
      "text/plain": [
       "GridSearchCV(cv=5, estimator=DecisionTreeClassifier(random_state=12345),\n",
       "             n_jobs=-1,\n",
       "             param_grid={'max_depth': range(1, 11),\n",
       "                         'min_samples_leaf': range(1, 11),\n",
       "                         'min_samples_split': range(2, 11)})"
      ]
     },
     "execution_count": 4,
     "metadata": {},
     "output_type": "execute_result"
    }
   ],
   "source": [
    "%%time\n",
    "model = DecisionTreeClassifier(random_state=12345)\n",
    "parametrs = { 'max_depth': range (1,11),\n",
    "              'min_samples_leaf': range (1,11),\n",
    "              'min_samples_split': range (2,11) }\n",
    "decisionTree_model = GridSearchCV(model, parametrs, n_jobs=-1, cv=5)\n",
    "decisionTree_model.fit(features_train, target_train)"
   ]
  },
  {
   "cell_type": "code",
   "execution_count": 5,
   "metadata": {},
   "outputs": [
    {
     "name": "stdout",
     "output_type": "stream",
     "text": [
      "Best_score лучшей модели decisionTree - 0.8065365722360539\n",
      "\n",
      "Параметры оптимальной модели:\t max_depth \t   - 7 \n",
      "\t\t\t\t min_samples_leaf  - 10 \n",
      "\t\t\t\t min_samples_split - 2\n"
     ]
    }
   ],
   "source": [
    "print('Best_score лучшей модели decisionTree -',decisionTree_model.best_score_)\n",
    "print('\\nПараметры оптимальной модели:\\t max_depth \\t   -', decisionTree_model.best_params_['max_depth'],\n",
    "     '\\n\\t\\t\\t\\t min_samples_leaf  -', decisionTree_model.best_params_['min_samples_leaf'],\n",
    "     '\\n\\t\\t\\t\\t min_samples_split -', decisionTree_model.best_params_['min_samples_split'])"
   ]
  },
  {
   "cell_type": "markdown",
   "metadata": {},
   "source": [
    "### Случайный лес"
   ]
  },
  {
   "cell_type": "code",
   "execution_count": 6,
   "metadata": {},
   "outputs": [
    {
     "name": "stdout",
     "output_type": "stream",
     "text": [
      "CPU times: total: 3min 57s\n",
      "Wall time: 3min 50s\n"
     ]
    },
    {
     "data": {
      "text/plain": [
       "GridSearchCV(cv=5,\n",
       "             estimator=RandomForestClassifier(n_jobs=-1, random_state=12345),\n",
       "             param_grid={'max_depth': range(1, 11),\n",
       "                         'min_samples_leaf': range(1, 11),\n",
       "                         'n_estimators': range(1, 51, 5)})"
      ]
     },
     "execution_count": 6,
     "metadata": {},
     "output_type": "execute_result"
    }
   ],
   "source": [
    "%%time\n",
    "model = RandomForestClassifier(n_jobs=-1, random_state=12345)\n",
    "parametrs = { 'n_estimators': range (1, 51, 5),\n",
    "              'max_depth': range (1,11),\n",
    "              'min_samples_leaf': range (1,11) }\n",
    "randomForest_model = GridSearchCV(model, parametrs, cv=5)\n",
    "randomForest_model.fit(features_train, target_train)"
   ]
  },
  {
   "cell_type": "code",
   "execution_count": 7,
   "metadata": {},
   "outputs": [
    {
     "name": "stdout",
     "output_type": "stream",
     "text": [
      "Best_score лучшей модели randomForest - 0.8241746854182086\n",
      "\n",
      "Параметры оптимальной модели:\t n_estimators\t  - 16 \n",
      "\t\t\t\t max_depth\t  - 10 \n",
      "\t\t\t\t min_samples_leaf - 4\n"
     ]
    }
   ],
   "source": [
    "print('Best_score лучшей модели randomForest -',randomForest_model.best_score_)\n",
    "print('\\nПараметры оптимальной модели:\\t n_estimators\\t  -', randomForest_model.best_params_['n_estimators'],\n",
    "     '\\n\\t\\t\\t\\t max_depth\\t  -', randomForest_model.best_params_['max_depth'],\n",
    "     '\\n\\t\\t\\t\\t min_samples_leaf -', randomForest_model.best_params_['min_samples_leaf'])"
   ]
  },
  {
   "cell_type": "markdown",
   "metadata": {},
   "source": [
    "### Логистическая регрессия"
   ]
  },
  {
   "cell_type": "code",
   "execution_count": 8,
   "metadata": {},
   "outputs": [
    {
     "name": "stdout",
     "output_type": "stream",
     "text": [
      "CPU times: total: 219 ms\n",
      "Wall time: 1.08 s\n"
     ]
    },
    {
     "data": {
      "text/plain": [
       "GridSearchCV(cv=5, estimator=LogisticRegression(n_jobs=-1, random_state=12345),\n",
       "             param_grid={'solver': ['newton-cg', 'lbfgs', 'liblinear', 'sag',\n",
       "                                    'saga']})"
      ]
     },
     "execution_count": 8,
     "metadata": {},
     "output_type": "execute_result"
    }
   ],
   "source": [
    "%%time\n",
    "filterwarnings('ignore')\n",
    "model = LogisticRegression(n_jobs=-1, random_state=12345)\n",
    "parametrs = { 'solver': ['newton-cg', 'lbfgs', 'liblinear', 'sag', 'saga'] }\n",
    "logisticRegression_model = GridSearchCV(model, parametrs, cv=5)\n",
    "logisticRegression_model.fit(features_train, target_train)"
   ]
  },
  {
   "cell_type": "code",
   "execution_count": 9,
   "metadata": {},
   "outputs": [
    {
     "name": "stdout",
     "output_type": "stream",
     "text": [
      "Best_score лучшей модели logisticRegression - 0.7484529977794226\n",
      "\n",
      "Параметры оптимальной модели:\t solver - newton-cg\n"
     ]
    }
   ],
   "source": [
    "print('Best_score лучшей модели logisticRegression -',logisticRegression_model.best_score_)\n",
    "print('\\nПараметры оптимальной модели:\\t solver -', logisticRegression_model.best_params_['solver'])"
   ]
  },
  {
   "cell_type": "markdown",
   "metadata": {},
   "source": [
    "### Метод k-ближайших соседей (классификация) "
   ]
  },
  {
   "cell_type": "code",
   "execution_count": 10,
   "metadata": {},
   "outputs": [
    {
     "name": "stdout",
     "output_type": "stream",
     "text": [
      "CPU times: total: 11.4 s\n",
      "Wall time: 11.3 s\n"
     ]
    },
    {
     "data": {
      "text/plain": [
       "GridSearchCV(cv=5, estimator=KNeighborsClassifier(),\n",
       "             param_grid={'n_neighbors': range(1, 101)})"
      ]
     },
     "execution_count": 10,
     "metadata": {},
     "output_type": "execute_result"
    }
   ],
   "source": [
    "%%time\n",
    "model = KNeighborsClassifier()\n",
    "parametrs = { 'n_neighbors': range (1,101) }\n",
    "kneighbors_model = GridSearchCV(model, parametrs, cv=5)\n",
    "kneighbors_model.fit(features_train, target_train)"
   ]
  },
  {
   "cell_type": "code",
   "execution_count": 11,
   "metadata": {},
   "outputs": [
    {
     "name": "stdout",
     "output_type": "stream",
     "text": [
      "Best_score лучшей модели kneighbors - 0.767645515106655\n",
      "\n",
      "Параметры оптимальной модели:\t n_neighbors - 15\n"
     ]
    }
   ],
   "source": [
    "print('Best_score лучшей модели kneighbors -',kneighbors_model.best_score_)\n",
    "print('\\nПараметры оптимальной модели:\\t n_neighbors -', kneighbors_model.best_params_['n_neighbors'])"
   ]
  },
  {
   "cell_type": "markdown",
   "metadata": {},
   "source": [
    "## Проверим модель на тестовой выборке"
   ]
  },
  {
   "cell_type": "markdown",
   "metadata": {},
   "source": [
    "Проверим наши модели на тестовой выборке и сведем все в одну таблицу."
   ]
  },
  {
   "cell_type": "code",
   "execution_count": 12,
   "metadata": {
    "scrolled": true
   },
   "outputs": [
    {
     "data": {
      "text/html": [
       "<div>\n",
       "<style scoped>\n",
       "    .dataframe tbody tr th:only-of-type {\n",
       "        vertical-align: middle;\n",
       "    }\n",
       "\n",
       "    .dataframe tbody tr th {\n",
       "        vertical-align: top;\n",
       "    }\n",
       "\n",
       "    .dataframe thead th {\n",
       "        text-align: right;\n",
       "    }\n",
       "</style>\n",
       "<table border=\"1\" class=\"dataframe\">\n",
       "  <thead>\n",
       "    <tr style=\"text-align: right;\">\n",
       "      <th></th>\n",
       "      <th>model</th>\n",
       "      <th>accuracy_test</th>\n",
       "    </tr>\n",
       "  </thead>\n",
       "  <tbody>\n",
       "    <tr>\n",
       "      <th>1</th>\n",
       "      <td>RandomForest</td>\n",
       "      <td>0.802488</td>\n",
       "    </tr>\n",
       "    <tr>\n",
       "      <th>0</th>\n",
       "      <td>DecisionTree</td>\n",
       "      <td>0.788491</td>\n",
       "    </tr>\n",
       "    <tr>\n",
       "      <th>3</th>\n",
       "      <td>KNeighbors</td>\n",
       "      <td>0.746501</td>\n",
       "    </tr>\n",
       "    <tr>\n",
       "      <th>2</th>\n",
       "      <td>LogisticRegression</td>\n",
       "      <td>0.738725</td>\n",
       "    </tr>\n",
       "  </tbody>\n",
       "</table>\n",
       "</div>"
      ],
      "text/plain": [
       "                model  accuracy_test\n",
       "1        RandomForest       0.802488\n",
       "0        DecisionTree       0.788491\n",
       "3          KNeighbors       0.746501\n",
       "2  LogisticRegression       0.738725"
      ]
     },
     "metadata": {},
     "output_type": "display_data"
    }
   ],
   "source": [
    "ml = [decisionTree_model, randomForest_model, logisticRegression_model, kneighbors_model]\n",
    "mln = ['DecisionTree', 'RandomForest', 'LogisticRegression', 'KNeighbors']\n",
    "acc_val, acc_test = [], []\n",
    "for i in ml: \n",
    "    acc_test.append(accuracy_score(target_test, i.predict(features_test)))\n",
    "df_a = pd.DataFrame()\n",
    "df_a['model'] = mln\n",
    "df_a['accuracy_test'] = acc_test\n",
    "display(df_a.sort_values(by = 'accuracy_test', ascending = False))"
   ]
  },
  {
   "cell_type": "markdown",
   "metadata": {},
   "source": [
    "### Вывод"
   ]
  },
  {
   "cell_type": "markdown",
   "metadata": {},
   "source": [
    "Сравнивая данные по моделям можно сказать, что для данного набора данных эффективность моделей ранжируется следующим образом:\n",
    "1. **RandomForest_model**;\n",
    "2. **DecisionTree_model**;\n",
    "3. **KNeighbors_model**;\n",
    "4. **LogisticRegression_model**.\n",
    "\n",
    "Наиболее перспективными выглядят модели **Дерево решений** и **Случайный лес**, остановим свой выбор на втором, так как он показал лучшие результаты."
   ]
  },
  {
   "cell_type": "markdown",
   "metadata": {},
   "source": [
    "## (бонус) Проверим модели на адекватность"
   ]
  },
  {
   "cell_type": "markdown",
   "metadata": {},
   "source": [
    "Проверим выбранную модель на адекватность. Для этого воспользуемся DummyClassifier."
   ]
  },
  {
   "cell_type": "code",
   "execution_count": 13,
   "metadata": {},
   "outputs": [
    {
     "data": {
      "text/plain": [
       "0.6842923794712286"
      ]
     },
     "execution_count": 13,
     "metadata": {},
     "output_type": "execute_result"
    }
   ],
   "source": [
    "dummy_model = DummyClassifier(strategy='most_frequent', random_state=12345)\n",
    "dummy_model.fit(features_train, target_train)\n",
    "dummy_model.score(features_test, target_test)"
   ]
  },
  {
   "cell_type": "markdown",
   "metadata": {},
   "source": [
    "Все созданные нами модели(**Случайный лес** в особенности) показывают более высокие результаты, нежели те, которые выдала модель **dummy_model**. Соответственно, проверка на адекватность пройдена."
   ]
  }
 ],
 "metadata": {
  "ExecuteTimeLog": [
   {
    "duration": 1303,
    "start_time": "2021-08-19T13:17:51.709Z"
   },
   {
    "duration": 559,
    "start_time": "2021-08-19T13:19:01.032Z"
   },
   {
    "duration": 364,
    "start_time": "2021-08-19T13:19:08.789Z"
   },
   {
    "duration": 42,
    "start_time": "2021-08-19T13:19:29.294Z"
   },
   {
    "duration": 38,
    "start_time": "2021-08-19T14:19:03.304Z"
   },
   {
    "duration": 12,
    "start_time": "2021-08-19T14:19:20.160Z"
   },
   {
    "duration": 23,
    "start_time": "2021-08-19T14:26:10.118Z"
   },
   {
    "duration": 1283,
    "start_time": "2021-08-20T11:44:54.110Z"
   },
   {
    "duration": 43,
    "start_time": "2021-08-20T11:44:55.396Z"
   },
   {
    "duration": 14,
    "start_time": "2021-08-20T11:44:55.442Z"
   },
   {
    "duration": 79,
    "start_time": "2021-08-20T11:44:55.458Z"
   },
   {
    "duration": 90,
    "start_time": "2021-08-20T11:47:31.444Z"
   },
   {
    "duration": 794,
    "start_time": "2021-08-20T11:48:31.137Z"
   },
   {
    "duration": 85,
    "start_time": "2021-08-20T11:49:30.018Z"
   },
   {
    "duration": 75,
    "start_time": "2021-08-20T11:52:44.049Z"
   },
   {
    "duration": 663,
    "start_time": "2021-08-20T12:02:16.487Z"
   },
   {
    "duration": 4,
    "start_time": "2021-08-20T12:04:30.947Z"
   },
   {
    "duration": 322,
    "start_time": "2021-08-20T12:11:22.323Z"
   },
   {
    "duration": 43149,
    "start_time": "2021-08-20T12:12:23.834Z"
   },
   {
    "duration": 306,
    "start_time": "2021-08-20T12:23:33.983Z"
   },
   {
    "duration": 6347,
    "start_time": "2021-08-20T12:24:05.673Z"
   },
   {
    "duration": 6157,
    "start_time": "2021-08-20T12:26:47.011Z"
   },
   {
    "duration": 6114,
    "start_time": "2021-08-20T12:27:05.533Z"
   },
   {
    "duration": 6403,
    "start_time": "2021-08-20T12:28:58.316Z"
   },
   {
    "duration": 6352,
    "start_time": "2021-08-20T12:30:44.234Z"
   },
   {
    "duration": 6585,
    "start_time": "2021-08-20T12:33:38.471Z"
   },
   {
    "duration": 20,
    "start_time": "2021-08-20T12:44:22.302Z"
   },
   {
    "duration": 5,
    "start_time": "2021-08-20T12:44:53.780Z"
   },
   {
    "duration": 1453712,
    "start_time": "2021-08-20T12:51:23.736Z"
   },
   {
    "duration": 1557,
    "start_time": "2021-08-21T09:03:59.346Z"
   },
   {
    "duration": 545,
    "start_time": "2021-08-21T09:15:19.731Z"
   },
   {
    "duration": 5,
    "start_time": "2021-08-21T09:20:21.153Z"
   },
   {
    "duration": 49,
    "start_time": "2021-08-21T09:20:29.140Z"
   },
   {
    "duration": 15,
    "start_time": "2021-08-21T09:20:45.006Z"
   },
   {
    "duration": 254,
    "start_time": "2021-08-21T09:21:58.454Z"
   },
   {
    "duration": 6,
    "start_time": "2021-08-21T09:22:33.113Z"
   },
   {
    "duration": 6305,
    "start_time": "2021-08-21T09:25:17.314Z"
   },
   {
    "duration": 6132,
    "start_time": "2021-08-21T09:26:02.273Z"
   },
   {
    "duration": 1297,
    "start_time": "2021-08-21T09:27:08.625Z"
   },
   {
    "duration": 43,
    "start_time": "2021-08-21T09:27:09.925Z"
   },
   {
    "duration": 11,
    "start_time": "2021-08-21T09:27:09.971Z"
   },
   {
    "duration": 6080,
    "start_time": "2021-08-21T09:27:09.985Z"
   },
   {
    "duration": 1466012,
    "start_time": "2021-08-21T09:27:16.068Z"
   },
   {
    "duration": 271,
    "start_time": "2021-08-21T09:51:42.082Z"
   },
   {
    "duration": 42300,
    "start_time": "2021-08-21T09:51:42.355Z"
   },
   {
    "duration": 258,
    "start_time": "2021-08-21T10:10:20.550Z"
   },
   {
    "duration": 517276,
    "start_time": "2021-08-21T10:11:24.134Z"
   },
   {
    "duration": 1360,
    "start_time": "2021-08-21T10:35:58.205Z"
   },
   {
    "duration": 47,
    "start_time": "2021-08-21T10:36:03.474Z"
   },
   {
    "duration": 11,
    "start_time": "2021-08-21T10:36:11.680Z"
   },
   {
    "duration": 511008,
    "start_time": "2021-08-21T10:36:24.542Z"
   },
   {
    "duration": 6002,
    "start_time": "2021-08-21T11:25:49.793Z"
   },
   {
    "duration": 6116,
    "start_time": "2021-08-21T11:26:17.930Z"
   },
   {
    "duration": 6054,
    "start_time": "2021-08-21T11:26:31.778Z"
   },
   {
    "duration": 252199,
    "start_time": "2021-08-21T11:35:33.368Z"
   },
   {
    "duration": 238,
    "start_time": "2021-08-21T12:06:01.372Z"
   },
   {
    "duration": 233,
    "start_time": "2021-08-21T12:06:13.846Z"
   },
   {
    "duration": 5,
    "start_time": "2021-08-21T12:07:28.891Z"
   },
   {
    "duration": 34,
    "start_time": "2021-08-21T12:07:32.022Z"
   },
   {
    "duration": 12,
    "start_time": "2021-08-21T12:08:55.680Z"
   },
   {
    "duration": 5871,
    "start_time": "2021-08-21T12:09:16.712Z"
   },
   {
    "duration": 11,
    "start_time": "2021-08-21T12:09:47.389Z"
   },
   {
    "duration": 5918,
    "start_time": "2021-08-21T12:09:53.139Z"
   },
   {
    "duration": 232,
    "start_time": "2021-08-21T12:10:26.474Z"
   },
   {
    "duration": 692655,
    "start_time": "2021-08-21T12:10:55.914Z"
   },
   {
    "duration": 104,
    "start_time": "2021-08-21T13:43:00.202Z"
   },
   {
    "duration": 78967,
    "start_time": "2021-08-21T13:43:17.021Z"
   },
   {
    "duration": 1540,
    "start_time": "2021-08-22T09:58:54.496Z"
   },
   {
    "duration": 45,
    "start_time": "2021-08-22T09:58:58.484Z"
   },
   {
    "duration": 13,
    "start_time": "2021-08-22T09:59:05.186Z"
   },
   {
    "duration": 6020,
    "start_time": "2021-08-22T09:59:08.353Z"
   },
   {
    "duration": 7814,
    "start_time": "2021-08-22T10:00:58.900Z"
   },
   {
    "duration": 9408,
    "start_time": "2021-08-22T10:02:09.387Z"
   },
   {
    "duration": 229,
    "start_time": "2021-08-22T10:02:52.130Z"
   },
   {
    "duration": 41160,
    "start_time": "2021-08-22T10:03:06.183Z"
   },
   {
    "duration": 237,
    "start_time": "2021-08-22T10:42:01.834Z"
   },
   {
    "duration": 31,
    "start_time": "2021-08-22T10:42:40.041Z"
   },
   {
    "duration": 30,
    "start_time": "2021-08-22T10:43:04.789Z"
   },
   {
    "duration": 33,
    "start_time": "2021-08-22T10:43:30.172Z"
   },
   {
    "duration": 38,
    "start_time": "2021-08-22T10:43:46.787Z"
   },
   {
    "duration": 248,
    "start_time": "2021-08-22T10:43:57.646Z"
   },
   {
    "duration": 235,
    "start_time": "2021-08-22T10:44:22.757Z"
   },
   {
    "duration": 246,
    "start_time": "2021-08-22T10:44:41.026Z"
   },
   {
    "duration": 230,
    "start_time": "2021-08-22T10:45:27.955Z"
   },
   {
    "duration": 210,
    "start_time": "2021-08-22T10:45:38.321Z"
   },
   {
    "duration": 183,
    "start_time": "2021-08-22T10:45:49.596Z"
   },
   {
    "duration": 247,
    "start_time": "2021-08-22T10:47:17.775Z"
   },
   {
    "duration": 235,
    "start_time": "2021-08-22T10:49:48.028Z"
   },
   {
    "duration": 246,
    "start_time": "2021-08-22T10:50:39.306Z"
   },
   {
    "duration": 245,
    "start_time": "2021-08-22T10:51:28.686Z"
   },
   {
    "duration": 240,
    "start_time": "2021-08-22T10:51:36.336Z"
   },
   {
    "duration": 41592,
    "start_time": "2021-08-22T11:48:18.831Z"
   },
   {
    "duration": 7,
    "start_time": "2021-08-22T11:51:27.713Z"
   },
   {
    "duration": 10,
    "start_time": "2021-08-22T11:54:24.272Z"
   },
   {
    "duration": 9,
    "start_time": "2021-08-22T11:57:09.944Z"
   },
   {
    "duration": 34854,
    "start_time": "2021-08-22T12:29:54.299Z"
   },
   {
    "duration": 35648,
    "start_time": "2021-08-22T12:31:40.141Z"
   },
   {
    "duration": 1826,
    "start_time": "2021-08-23T09:02:38.135Z"
   },
   {
    "duration": 60,
    "start_time": "2021-08-23T09:02:46.957Z"
   },
   {
    "duration": 16,
    "start_time": "2021-08-23T09:02:53.535Z"
   },
   {
    "duration": 49726,
    "start_time": "2021-08-23T09:03:06.428Z"
   },
   {
    "duration": 193325,
    "start_time": "2021-08-23T09:10:41.165Z"
   },
   {
    "duration": 1316,
    "start_time": "2021-08-23T09:17:37.633Z"
   },
   {
    "duration": 241,
    "start_time": "2021-08-23T09:17:58.654Z"
   },
   {
    "duration": 3,
    "start_time": "2021-08-23T09:23:13.117Z"
   },
   {
    "duration": 460,
    "start_time": "2021-08-23T09:29:52.370Z"
   },
   {
    "duration": 420,
    "start_time": "2021-08-23T09:30:39.673Z"
   },
   {
    "duration": 12263,
    "start_time": "2021-08-23T09:30:50.929Z"
   },
   {
    "duration": 12194,
    "start_time": "2021-08-23T09:32:46.001Z"
   },
   {
    "duration": 147,
    "start_time": "2021-08-23T09:45:00.191Z"
   },
   {
    "duration": 133,
    "start_time": "2021-08-23T09:45:47.133Z"
   },
   {
    "duration": 213,
    "start_time": "2021-08-23T09:45:57.157Z"
   },
   {
    "duration": 376,
    "start_time": "2021-08-23T09:49:19.031Z"
   },
   {
    "duration": 5,
    "start_time": "2021-08-23T09:49:46.497Z"
   },
   {
    "duration": 8,
    "start_time": "2021-08-23T09:50:08.029Z"
   },
   {
    "duration": 10,
    "start_time": "2021-08-23T09:51:16.028Z"
   },
   {
    "duration": 43,
    "start_time": "2021-08-23T09:51:44.648Z"
   },
   {
    "duration": 77,
    "start_time": "2021-08-23T09:51:51.426Z"
   },
   {
    "duration": 443,
    "start_time": "2021-08-23T09:54:23.904Z"
   },
   {
    "duration": 79,
    "start_time": "2021-08-23T09:55:19.921Z"
   },
   {
    "duration": 78,
    "start_time": "2021-08-23T09:56:56.798Z"
   },
   {
    "duration": 473,
    "start_time": "2021-08-23T09:57:03.114Z"
   },
   {
    "duration": 418,
    "start_time": "2021-08-23T09:58:27.684Z"
   },
   {
    "duration": 476,
    "start_time": "2021-08-23T09:58:52.531Z"
   },
   {
    "duration": 82,
    "start_time": "2021-08-23T10:07:42.950Z"
   },
   {
    "duration": 82,
    "start_time": "2021-08-23T10:07:56.392Z"
   },
   {
    "duration": 557,
    "start_time": "2021-08-23T10:14:57.873Z"
   },
   {
    "duration": 561,
    "start_time": "2021-08-23T10:16:11.553Z"
   },
   {
    "duration": 572,
    "start_time": "2021-08-23T11:12:31.391Z"
   },
   {
    "duration": 541,
    "start_time": "2021-08-23T11:13:13.278Z"
   },
   {
    "duration": 454,
    "start_time": "2021-08-23T11:14:23.036Z"
   },
   {
    "duration": 79,
    "start_time": "2021-08-23T11:15:09.785Z"
   },
   {
    "duration": 86,
    "start_time": "2021-08-23T11:16:21.584Z"
   },
   {
    "duration": 88,
    "start_time": "2021-08-23T11:18:34.535Z"
   },
   {
    "duration": 86,
    "start_time": "2021-08-23T11:18:58.258Z"
   },
   {
    "duration": 81,
    "start_time": "2021-08-23T11:19:47.618Z"
   },
   {
    "duration": 79,
    "start_time": "2021-08-23T11:20:27.792Z"
   },
   {
    "duration": 78,
    "start_time": "2021-08-23T11:20:32.302Z"
   },
   {
    "duration": 84,
    "start_time": "2021-08-23T11:20:39.247Z"
   },
   {
    "duration": 82,
    "start_time": "2021-08-23T11:20:52.680Z"
   },
   {
    "duration": 85,
    "start_time": "2021-08-23T11:23:38.462Z"
   },
   {
    "duration": 93,
    "start_time": "2021-08-23T11:26:17.720Z"
   },
   {
    "duration": 88,
    "start_time": "2021-08-23T11:27:59.169Z"
   },
   {
    "duration": 246299,
    "start_time": "2021-08-23T11:35:57.408Z"
   },
   {
    "duration": 102319,
    "start_time": "2021-08-23T11:44:28.066Z"
   },
   {
    "duration": 136920,
    "start_time": "2021-08-23T11:50:14.703Z"
   },
   {
    "duration": 11790,
    "start_time": "2021-08-23T12:02:04.795Z"
   },
   {
    "duration": 1315,
    "start_time": "2021-08-24T08:08:59.311Z"
   },
   {
    "duration": 46,
    "start_time": "2021-08-24T08:09:08.226Z"
   },
   {
    "duration": 13,
    "start_time": "2021-08-24T08:09:15.656Z"
   },
   {
    "duration": 34919,
    "start_time": "2021-08-24T08:09:23.915Z"
   },
   {
    "duration": 164508,
    "start_time": "2021-08-24T08:10:11.844Z"
   },
   {
    "duration": 1300,
    "start_time": "2021-08-24T08:13:58.601Z"
   },
   {
    "duration": 12957,
    "start_time": "2021-08-24T08:14:45.392Z"
   },
   {
    "duration": 99,
    "start_time": "2021-08-24T08:16:40.094Z"
   },
   {
    "duration": 528,
    "start_time": "2021-08-24T10:26:11.952Z"
   },
   {
    "duration": 5,
    "start_time": "2021-08-24T10:30:18.620Z"
   },
   {
    "duration": 39,
    "start_time": "2021-08-24T10:30:23.795Z"
   },
   {
    "duration": 15,
    "start_time": "2021-08-24T10:30:32.245Z"
   },
   {
    "duration": 39427,
    "start_time": "2021-08-24T10:30:44.903Z"
   },
   {
    "duration": 261,
    "start_time": "2021-08-24T10:31:50.497Z"
   },
   {
    "duration": 370044,
    "start_time": "2021-08-24T10:32:23.123Z"
   },
   {
    "duration": 1269,
    "start_time": "2021-08-24T10:42:14.929Z"
   },
   {
    "duration": 236,
    "start_time": "2021-08-24T10:42:28.421Z"
   },
   {
    "duration": 105,
    "start_time": "2021-08-24T10:50:27.997Z"
   },
   {
    "duration": 99,
    "start_time": "2021-08-24T11:08:47.405Z"
   },
   {
    "duration": 95,
    "start_time": "2021-08-24T11:09:14.432Z"
   },
   {
    "duration": 108,
    "start_time": "2021-08-24T11:09:23.371Z"
   },
   {
    "duration": 8205,
    "start_time": "2021-08-24T11:11:03.161Z"
   },
   {
    "duration": 7729,
    "start_time": "2021-08-24T11:11:19.760Z"
   },
   {
    "duration": 402,
    "start_time": "2021-08-24T11:11:29.283Z"
   },
   {
    "duration": 105,
    "start_time": "2021-08-24T11:11:37.156Z"
   },
   {
    "duration": 99,
    "start_time": "2021-08-24T11:11:53.980Z"
   },
   {
    "duration": 6,
    "start_time": "2021-08-24T11:30:22.564Z"
   },
   {
    "duration": 307,
    "start_time": "2021-08-24T11:38:12.038Z"
   },
   {
    "duration": 37,
    "start_time": "2021-08-24T11:38:25.659Z"
   },
   {
    "duration": 12,
    "start_time": "2021-08-24T11:38:33.292Z"
   },
   {
    "duration": 9,
    "start_time": "2021-08-24T11:55:30.840Z"
   },
   {
    "duration": 8,
    "start_time": "2021-08-24T11:55:40.735Z"
   },
   {
    "duration": 8,
    "start_time": "2021-08-24T11:55:58.563Z"
   },
   {
    "duration": 34926,
    "start_time": "2021-08-24T12:09:50.436Z"
   },
   {
    "duration": 9,
    "start_time": "2021-08-24T12:12:54.044Z"
   },
   {
    "duration": 9,
    "start_time": "2021-08-24T12:13:23.574Z"
   },
   {
    "duration": 8,
    "start_time": "2021-08-24T12:13:50.751Z"
   },
   {
    "duration": 8,
    "start_time": "2021-08-24T12:14:15.959Z"
   },
   {
    "duration": 9,
    "start_time": "2021-08-24T12:15:14.526Z"
   },
   {
    "duration": 8,
    "start_time": "2021-08-24T12:15:26.955Z"
   },
   {
    "duration": 8,
    "start_time": "2021-08-24T12:15:44.573Z"
   },
   {
    "duration": 8,
    "start_time": "2021-08-24T12:15:49.042Z"
   },
   {
    "duration": 8,
    "start_time": "2021-08-24T12:15:55.220Z"
   },
   {
    "duration": 9,
    "start_time": "2021-08-24T12:16:00.033Z"
   },
   {
    "duration": 9,
    "start_time": "2021-08-24T12:16:27.481Z"
   },
   {
    "duration": 11,
    "start_time": "2021-08-24T12:24:43.063Z"
   },
   {
    "duration": 13,
    "start_time": "2021-08-24T12:24:59.972Z"
   },
   {
    "duration": 13,
    "start_time": "2021-08-24T12:25:08.120Z"
   },
   {
    "duration": 14,
    "start_time": "2021-08-24T12:25:27.123Z"
   },
   {
    "duration": 13,
    "start_time": "2021-08-24T12:25:33.831Z"
   },
   {
    "duration": 13,
    "start_time": "2021-08-24T12:25:46.046Z"
   },
   {
    "duration": 12,
    "start_time": "2021-08-24T12:25:50.168Z"
   },
   {
    "duration": 5,
    "start_time": "2021-08-24T12:33:14.290Z"
   },
   {
    "duration": 1393,
    "start_time": "2021-08-24T12:33:41.801Z"
   },
   {
    "duration": 8,
    "start_time": "2021-08-24T12:34:54.338Z"
   },
   {
    "duration": 10,
    "start_time": "2021-08-24T12:35:37.722Z"
   },
   {
    "duration": 14,
    "start_time": "2021-08-24T12:36:00.441Z"
   },
   {
    "duration": 8,
    "start_time": "2021-08-24T12:36:23.127Z"
   },
   {
    "duration": 41,
    "start_time": "2021-08-24T12:38:05.608Z"
   },
   {
    "duration": 1343,
    "start_time": "2021-08-24T13:05:30.110Z"
   },
   {
    "duration": 51,
    "start_time": "2021-08-24T13:05:31.457Z"
   },
   {
    "duration": 13,
    "start_time": "2021-08-24T13:05:31.517Z"
   },
   {
    "duration": 35644,
    "start_time": "2021-08-24T13:05:31.533Z"
   },
   {
    "duration": 21,
    "start_time": "2021-08-24T13:06:07.180Z"
   },
   {
    "duration": 364201,
    "start_time": "2021-08-24T13:06:07.204Z"
   },
   {
    "duration": 16,
    "start_time": "2021-08-24T13:12:11.408Z"
   },
   {
    "duration": 1405,
    "start_time": "2021-08-24T13:12:11.429Z"
   },
   {
    "duration": 9,
    "start_time": "2021-08-24T13:12:12.836Z"
   },
   {
    "duration": 12016,
    "start_time": "2021-08-24T13:12:12.848Z"
   },
   {
    "duration": 56,
    "start_time": "2021-08-24T13:12:24.866Z"
   },
   {
    "duration": 115,
    "start_time": "2021-08-24T13:12:24.924Z"
   },
   {
    "duration": 7669,
    "start_time": "2021-08-24T13:12:25.041Z"
   },
   {
    "duration": 8140,
    "start_time": "2021-08-24T13:15:55.975Z"
   },
   {
    "duration": 12,
    "start_time": "2021-08-24T13:19:47.740Z"
   },
   {
    "duration": 97,
    "start_time": "2021-08-24T13:21:03.070Z"
   },
   {
    "duration": 35,
    "start_time": "2021-08-24T13:21:10.541Z"
   },
   {
    "duration": 10,
    "start_time": "2021-08-24T13:21:21.188Z"
   },
   {
    "duration": 1414,
    "start_time": "2021-08-24T13:21:34.116Z"
   },
   {
    "duration": 46,
    "start_time": "2021-08-24T13:21:35.533Z"
   },
   {
    "duration": 25,
    "start_time": "2021-08-24T13:21:35.583Z"
   },
   {
    "duration": 35468,
    "start_time": "2021-08-24T13:21:35.611Z"
   },
   {
    "duration": 22,
    "start_time": "2021-08-24T13:22:11.083Z"
   },
   {
    "duration": 362825,
    "start_time": "2021-08-24T13:22:11.108Z"
   },
   {
    "duration": 12,
    "start_time": "2021-08-24T13:28:13.936Z"
   },
   {
    "duration": 1312,
    "start_time": "2021-08-24T13:28:13.950Z"
   },
   {
    "duration": 7,
    "start_time": "2021-08-24T13:28:15.266Z"
   },
   {
    "duration": 12228,
    "start_time": "2021-08-24T13:28:15.275Z"
   },
   {
    "duration": 45,
    "start_time": "2021-08-24T13:28:27.506Z"
   },
   {
    "duration": 131,
    "start_time": "2021-08-24T13:28:27.554Z"
   },
   {
    "duration": 12,
    "start_time": "2021-08-24T13:28:27.688Z"
   },
   {
    "duration": 1458,
    "start_time": "2021-08-24T15:32:37.698Z"
   },
   {
    "duration": 47,
    "start_time": "2021-08-24T15:32:41.051Z"
   },
   {
    "duration": 15,
    "start_time": "2021-08-24T15:32:47.464Z"
   },
   {
    "duration": 442,
    "start_time": "2021-08-24T15:33:52.144Z"
   },
   {
    "duration": 36782,
    "start_time": "2021-08-24T15:33:59.609Z"
   },
   {
    "duration": 5,
    "start_time": "2021-08-24T15:43:25.575Z"
   },
   {
    "duration": 9,
    "start_time": "2021-08-24T15:43:35.321Z"
   },
   {
    "duration": 34255,
    "start_time": "2021-08-24T15:59:16.939Z"
   },
   {
    "duration": 1113,
    "start_time": "2021-08-25T08:29:36.407Z"
   },
   {
    "duration": 35,
    "start_time": "2021-08-25T08:29:40.831Z"
   },
   {
    "duration": 11,
    "start_time": "2021-08-25T08:29:50.457Z"
   },
   {
    "duration": 9,
    "start_time": "2021-08-25T08:29:57.772Z"
   },
   {
    "duration": 21328,
    "start_time": "2021-08-25T08:30:11.232Z"
   },
   {
    "duration": 4,
    "start_time": "2021-08-25T08:31:17.220Z"
   },
   {
    "duration": 723,
    "start_time": "2021-08-25T08:45:23.991Z"
   },
   {
    "duration": 1283,
    "start_time": "2021-08-25T16:42:52.851Z"
   },
   {
    "duration": 45,
    "start_time": "2021-08-25T16:42:56.474Z"
   },
   {
    "duration": 14,
    "start_time": "2021-08-25T16:43:06.644Z"
   },
   {
    "duration": 33882,
    "start_time": "2021-08-25T16:43:17.456Z"
   },
   {
    "duration": 7,
    "start_time": "2021-08-25T16:43:58.463Z"
   },
   {
    "duration": 357351,
    "start_time": "2021-08-25T16:44:07.580Z"
   },
   {
    "duration": 6,
    "start_time": "2021-08-25T16:50:37.999Z"
   },
   {
    "duration": 1326,
    "start_time": "2021-08-25T16:50:48.034Z"
   },
   {
    "duration": 5,
    "start_time": "2021-08-25T16:50:53.344Z"
   },
   {
    "duration": 12155,
    "start_time": "2021-08-25T16:51:04.398Z"
   },
   {
    "duration": 5,
    "start_time": "2021-08-25T16:51:22.877Z"
   },
   {
    "duration": 403,
    "start_time": "2021-08-25T16:51:40.726Z"
   },
   {
    "duration": 55,
    "start_time": "2021-08-25T16:52:13.703Z"
   },
   {
    "duration": 9,
    "start_time": "2021-08-25T16:55:20.643Z"
   },
   {
    "duration": 7,
    "start_time": "2021-08-25T16:55:39.256Z"
   },
   {
    "duration": 8,
    "start_time": "2021-08-25T17:02:28.305Z"
   },
   {
    "duration": 9,
    "start_time": "2021-08-25T17:02:52.944Z"
   },
   {
    "duration": 9,
    "start_time": "2021-08-25T17:04:27.333Z"
   }
  ],
  "kernelspec": {
   "display_name": "Python 3 (ipykernel)",
   "language": "python",
   "name": "python3"
  },
  "language_info": {
   "codemirror_mode": {
    "name": "ipython",
    "version": 3
   },
   "file_extension": ".py",
   "mimetype": "text/x-python",
   "name": "python",
   "nbconvert_exporter": "python",
   "pygments_lexer": "ipython3",
   "version": "3.9.12"
  },
  "toc": {
   "base_numbering": 1,
   "nav_menu": {},
   "number_sections": true,
   "sideBar": true,
   "skip_h1_title": true,
   "title_cell": "Table of Contents",
   "title_sidebar": "Contents",
   "toc_cell": false,
   "toc_position": {},
   "toc_section_display": true,
   "toc_window_display": false
  }
 },
 "nbformat": 4,
 "nbformat_minor": 2
}
